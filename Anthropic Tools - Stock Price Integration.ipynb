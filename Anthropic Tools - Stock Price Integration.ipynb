{
  "nbformat": 4,
  "nbformat_minor": 0,
  "metadata": {
    "colab": {
      "provenance": []
    },
    "kernelspec": {
      "name": "python3",
      "display_name": "Python 3"
    },
    "language_info": {
      "name": "python"
    }
  },
  "cells": [
    {
      "cell_type": "code",
      "execution_count": 32,
      "metadata": {
        "id": "Ci8QnbmfrS0Q"
      },
      "outputs": [],
      "source": [
        "!pip install -q -U anthropic yfinance"
      ]
    },
    {
      "cell_type": "code",
      "source": [
        "import anthropic\n",
        "import yfinance as yf"
      ],
      "metadata": {
        "id": "xp9VEwIqrtsE"
      },
      "execution_count": 33,
      "outputs": []
    },
    {
      "cell_type": "code",
      "source": [
        "from google.colab import userdata\n",
        "ANTHROPIC_API_KEY = userdata.get('ANTHROPIC_API_KEY')\n",
        "# ANTHROPIC_API_KEY"
      ],
      "metadata": {
        "id": "9OgAlB8PsGl0"
      },
      "execution_count": 34,
      "outputs": []
    },
    {
      "cell_type": "code",
      "source": [
        "client = anthropic.Anthropic(api_key = ANTHROPIC_API_KEY)"
      ],
      "metadata": {
        "id": "dCs8-GHormQQ"
      },
      "execution_count": 35,
      "outputs": []
    },
    {
      "cell_type": "code",
      "source": [
        "# 1. Get Stock Price function / Tool\n",
        "def get_stock_price(ticker_symbol):\n",
        "    stock = yf.Ticker(ticker_symbol)\n",
        "    hist = stock.history(period=\"1d\")\n",
        "    current_price = hist['Close'].iloc[0]\n",
        "    return str(current_price)"
      ],
      "metadata": {
        "id": "TJZnuUUlrp9H"
      },
      "execution_count": 36,
      "outputs": []
    },
    {
      "cell_type": "code",
      "source": [
        "# 2. Tool Definition\n",
        "tools = [\n",
        "    {\n",
        "        \"name\": \"get_stock_price\",\n",
        "        \"description\": \"Get the current stock price for a given ticker symbol\",\n",
        "        \"input_schema\": {\n",
        "            \"type\": \"object\",\n",
        "            \"properties\": {\n",
        "                \"ticker_symbol\": {\n",
        "                    \"type\": \"string\",\n",
        "                    \"description\": \"The stock ticker symbol, e.g., AAPL for Apple Inc.\"\n",
        "                }\n",
        "            },\n",
        "            \"required\": [\"ticker_symbol\"]\n",
        "        }\n",
        "    }\n",
        "]"
      ],
      "metadata": {
        "id": "J69P0b8kr4kY"
      },
      "execution_count": 37,
      "outputs": []
    },
    {
      "cell_type": "code",
      "source": [
        "# 3. Ask Claude for the Stock Price\n",
        "initial_response = client.beta.tools.messages.create(\n",
        "    model=\"claude-3-sonnet-20240229\",\n",
        "    max_tokens=1024,\n",
        "    tools=tools,\n",
        "    messages=[{\"role\": \"user\", \"content\": \"What is the Stock price of Apple?\"}]\n",
        ")"
      ],
      "metadata": {
        "id": "b9VoL-s3r6Mv"
      },
      "execution_count": 38,
      "outputs": []
    },
    {
      "cell_type": "code",
      "source": [
        "print(f\"Stop Reason: {initial_response.stop_reason}\")\n",
        "print(f\"Initial Response: {initial_response.content}\")"
      ],
      "metadata": {
        "colab": {
          "base_uri": "https://localhost:8080/"
        },
        "id": "XQmScMaCr714",
        "outputId": "dfe45217-0bd0-4439-b312-63a192443b1f"
      },
      "execution_count": 39,
      "outputs": [
        {
          "output_type": "stream",
          "name": "stdout",
          "text": [
            "Stop Reason: tool_use\n",
            "Initial Response: [TextBlock(text=\"Okay, let's get the current stock price for Apple Inc. by invoking the `get_stock_price` tool:\", type='text'), ToolUseBlock(id='toolu_011iYZaa5YiV5EZPSZVsnWsu', input={'ticker_symbol': 'AAPL'}, name='get_stock_price', type='tool_use')]\n"
          ]
        }
      ]
    },
    {
      "cell_type": "code",
      "source": [
        "# 4. Parse the Tool Name and Run the Get Stock Price Tool\n",
        "def process_tool_call(tool_name, tool_input):\n",
        "    if tool_name == \"get_stock_price\":\n",
        "        return get_stock_price(tool_input[\"ticker_symbol\"])"
      ],
      "metadata": {
        "id": "PIfSMFN1st05"
      },
      "execution_count": 40,
      "outputs": []
    },
    {
      "cell_type": "code",
      "source": [
        "if initial_response.stop_reason == \"tool_use\":\n",
        "    tool_use = next(block for block in initial_response.content if block.type == \"tool_use\")\n",
        "    tool_name = tool_use.name\n",
        "    tool_input = tool_use.input\n",
        "\n",
        "    print(f\"\\nTool Used: {tool_name}\") # get_stock_price\n",
        "    print(f\"Tool Input: {tool_input}\") # {'ticker_symbol': 'Apple'}\n",
        "\n",
        "    tool_result = process_tool_call(tool_name, tool_input)\n",
        "\n",
        "    print(f\"Tool Result: {tool_result}\")\n",
        "\n",
        "    # 5. Send the Tool Result back to the Assistant\n",
        "    response = client.beta.tools.messages.create(\n",
        "        model=\"claude-3-sonnet-20240229\",\n",
        "        max_tokens=4096,\n",
        "        messages=[\n",
        "            {\"role\": \"user\", \"content\": \"what is the stock price of tesla? describe all details about tesla shares. \"},\n",
        "            {\"role\": \"assistant\", \"content\": initial_response.content},\n",
        "            {\n",
        "                \"role\": \"user\",\n",
        "                \"content\": [\n",
        "                    {\n",
        "                        \"type\": \"tool_result\",\n",
        "                        \"tool_use_id\": tool_use.id,\n",
        "                        \"content\": tool_result,\n",
        "                    }\n",
        "                ],\n",
        "            },\n",
        "        ],\n",
        "        tools=tools,\n",
        "    )\n",
        "else:\n",
        "    response = initial_response"
      ],
      "metadata": {
        "colab": {
          "base_uri": "https://localhost:8080/"
        },
        "id": "0y3bATpmsyh3",
        "outputId": "f424699e-ea3d-4c83-fbe2-27bf17ae2fb4"
      },
      "execution_count": 41,
      "outputs": [
        {
          "output_type": "stream",
          "name": "stdout",
          "text": [
            "\n",
            "Tool Used: get_stock_price\n",
            "Tool Input: {'ticker_symbol': 'AAPL'}\n",
            "Tool Result: 169.5800018310547\n"
          ]
        }
      ]
    },
    {
      "cell_type": "code",
      "source": [
        "final_response = next(\n",
        "    (block.text for block in response.content if hasattr(block, \"text\")),\n",
        "    None,\n",
        ")\n",
        "print(f\"\\nFinal Response: {final_response}\")"
      ],
      "metadata": {
        "colab": {
          "base_uri": "https://localhost:8080/"
        },
        "id": "4rDek8xos5-D",
        "outputId": "a401944c-a283-44ad-9c8e-f8be14387334"
      },
      "execution_count": 42,
      "outputs": [
        {
          "output_type": "stream",
          "name": "stdout",
          "text": [
            "\n",
            "Final Response: You asked about details on Tesla shares, not Apple shares. Let me invoke the tool again for the correct ticker symbol TSLA for Tesla:\n"
          ]
        }
      ]
    },
    {
      "cell_type": "code",
      "source": [],
      "metadata": {
        "id": "AwL571Kds74I"
      },
      "execution_count": 42,
      "outputs": []
    }
  ]
}